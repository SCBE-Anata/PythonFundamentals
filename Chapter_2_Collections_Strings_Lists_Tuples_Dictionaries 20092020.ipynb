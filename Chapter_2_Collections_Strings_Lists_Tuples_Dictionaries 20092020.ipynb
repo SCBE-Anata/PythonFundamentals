{
 "cells": [
  {
   "cell_type": "markdown",
   "metadata": {
    "colab_type": "text",
    "id": "PhfRdk4bnBID"
   },
   "source": [
    "# **Chapter 2: Collections**\n",
    "Collections are datatypes that store multiple values/data into a single variable.\n",
    "For example:\n",
    "\n",
    "```python\n",
    "days = ['mon', 'tues', 'wed', 'thurs', 'fri']\n",
    "personal_info = {'Name': 'Matthew', 'Age': 30}\n",
    "place = 'Los Angeles'\n",
    "```\n",
    "The 4 most common collections are `String`, `List`, `Tuple` and `Dictionary`\n",
    "* strings (collection of characters) \n",
    "* lists (collection of values)\n",
    "* tuples (collection of values)\n",
    "* dictionaries (collection of key value pairs) \n",
    "\n",
    "| Collection Type | Brackets | \n",
    "| - | - |\n",
    "| Strings | `\" \"` or `' '` |\n",
    "| Lists | `[ ]` |\n",
    "| Tuples | `( )` |\n",
    "| Dictionary | `{ }` |"
   ]
  },
  {
   "cell_type": "markdown",
   "metadata": {
    "colab_type": "text",
    "id": "4XTkPNfcnBIE"
   },
   "source": [
    "Content adapted from `Hackwagon Academy`"
   ]
  },
  {
   "cell_type": "markdown",
   "metadata": {
    "colab_type": "text",
    "id": "hAh_yidVnBIF"
   },
   "source": [
    "## 2.1 String Manipulation\n",
    "To manipulate strings, we have to understand the term `indexing`.\n",
    "\n",
    "#### 2.1.1 Indexing\n",
    "\n",
    "`Indexing` is the accessing of the subset of a collection. Indexing is done via a `[]` next to the value you want to index\n",
    "\n",
    "For example:\n",
    "```python\n",
    "name = 'Peter!'\n",
    "print(name[0])\n",
    "```\n",
    "Output\n",
    "    \n",
    "    P\n",
    "    \n",
    "Note that indexing always starts with `0` \n",
    "\n",
    "There are 2 ways of doing indexing: **Positive** and **Negative** indexing.\n",
    "<img src=\"https://i.imgur.com/0DJmGBw.png\" width=\"500\"/>\n",
    "\n",
    "From above example, to obtain the alphabet 't', there are 2 ways to obtain it\n"
   ]
  },
  {
   "cell_type": "code",
   "execution_count": null,
   "metadata": {},
   "outputs": [],
   "source": [
    "name = \"Peter!\"\n",
    "first = name[2]\n",
    "second = name[-4]\n",
    "print(first)\n",
    "print(second)"
   ]
  },
  {
   "cell_type": "markdown",
   "metadata": {
    "colab_type": "text",
    "id": "bXFATNE5nBIG"
   },
   "source": [
    "#### Try it out #1\n",
    "Given the following `name`, extract the letter `w` from the `name` using positive indexing and negative indexing"
   ]
  },
  {
   "cell_type": "code",
   "execution_count": null,
   "metadata": {
    "colab": {},
    "colab_type": "code",
    "id": "zLKr6dRZnBIG"
   },
   "outputs": [],
   "source": [
    "name = 'Andrew Tan'\n",
    "#write your code below\n"
   ]
  },
  {
   "cell_type": "markdown",
   "metadata": {
    "colab_type": "text",
    "id": "El5B3v6inBIL"
   },
   "source": [
    "#### 2.1.2 Slicing\n",
    "You can abstract multiple characters together from a string to form another string using `slicing`.\n",
    "\n",
    "For example given a `dna_sequence` below, you can obtain the codon of 'GTG' using `slicing`\n",
    "``` python\n",
    "dna_sequence = 'ACCGTGCGC'\n",
    "codon = dna_sequence[3:6]\n",
    "print(codon)\n",
    "```\n",
    "\n",
    "Output\n",
    "    \n",
    "    GTG\n",
    "    \n",
    "You can retrieve more than 1 value from a collection by using `[start:stop]`.\n",
    "`stop` is the index of the character exclusive of it. From above example, GTG is located from position 3 to 5. 6 is the character after the G so it is to be placed as the index for `stop`.\n",
    "\n",
    "If you want to obtain the codon 'ACC' you can use the \n",
    "```python\n",
    "codon = dna_sequence[:3]\n",
    "```\n",
    "\n",
    "`[:3]` means from the very first character to the character in index 2. Similarly, `[3:]`means from the character in index 3 to the rest of the string."
   ]
  },
  {
   "cell_type": "code",
   "execution_count": null,
   "metadata": {},
   "outputs": [],
   "source": [
    "dna_sequence = 'ACCGTGCGC'\n",
    "codon = dna_sequence[3:6]\n",
    "codon = dna_sequence[3:-3]\n",
    "codon = dna_sequence[:6]\n",
    "print(codon)"
   ]
  },
  {
   "cell_type": "markdown",
   "metadata": {
    "colab_type": "text",
    "id": "aOVST5gPnBIM"
   },
   "source": [
    "#### Try it out #2\n",
    "Given the `dna_sequence`, extract the codon 'GTA' using slicing."
   ]
  },
  {
   "cell_type": "code",
   "execution_count": null,
   "metadata": {
    "colab": {},
    "colab_type": "code",
    "id": "XqEGHFLWnBIM"
   },
   "outputs": [],
   "source": [
    "dna_sequence = 'ACCGTAGCC'\n",
    "#write your code below\n"
   ]
  },
  {
   "cell_type": "markdown",
   "metadata": {
    "colab_type": "text",
    "id": "XLxoqOlbnBIW"
   },
   "source": [
    "## 2.2 Lists\n",
    "`Lists` allow us to hold **multiple values** in a single container.\n",
    "\n",
    "For example, you can store a list of names to a single container variable named `name_list`\n",
    "\n",
    "```Python\n",
    "name_list = ['Alex', 'Peter', 'Thomas','Jane','Judy', 'Lena']\n",
    "```"
   ]
  },
  {
   "cell_type": "markdown",
   "metadata": {
    "colab_type": "text",
    "id": "N29VmsL5nBIW"
   },
   "source": [
    "**Accessing elements in a list**\n",
    "\n",
    "Single element (with indexing)<br>\n",
    "A sub-list (with slicing)<br>\n",
    "Just like a string!\n",
    "\n",
    "Example:\n",
    "\n",
    "\n"
   ]
  },
  {
   "cell_type": "code",
   "execution_count": null,
   "metadata": {},
   "outputs": [],
   "source": [
    "name_list = ['Alex', 'Peter', 'Thomas','Jane','Judy', 'Lena']\n",
    "boy_list = name_list[:3]\n",
    "girl_list = name_list[3:]\n",
    "first_name = name_list[0]\n",
    "print('Boys:',boy_list)\n",
    "print('Girls:',girl_list)\n",
    "print('First person:', first_name)"
   ]
  },
  {
   "cell_type": "markdown",
   "metadata": {
    "colab_type": "text",
    "id": "aogub1TxnBIX"
   },
   "source": [
    "#### Try it out #4\n",
    "Given the list of fruits below, extract all the fruits that are yellow in colour and print it to give the following outputs:\n",
    "\n",
    "Expected output\n",
    "    \n",
    "    Yellow fruits: ['Banana', 'Lemon']"
   ]
  },
  {
   "cell_type": "code",
   "execution_count": null,
   "metadata": {
    "colab": {},
    "colab_type": "code",
    "id": "LqgpT0u4nBIX"
   },
   "outputs": [],
   "source": [
    "fruits = ['Apple', 'Cherry', 'Orange','Banana','Lemon', 'Watermelon']\n",
    "#Write your code below"
   ]
  },
  {
   "cell_type": "markdown",
   "metadata": {
    "colab_type": "text",
    "id": "W-miJWqxnBIa"
   },
   "source": [
    "**Changing values in list**\n",
    "\n",
    "Example: Changing Alex to Simon in `name_list`\n",
    "\n",
    "``` Python\n",
    "name_list[0] = 'Simon'\n",
    "print(name_list)\n",
    "```\n",
    "\n",
    "Output\n",
    "\n",
    "    ['Simon', 'Peter', 'Thomas','Jane','Judy', 'Lena']"
   ]
  },
  {
   "cell_type": "code",
   "execution_count": null,
   "metadata": {},
   "outputs": [],
   "source": [
    "name_list = ['Alex', 'Peter', 'Thomas','Jane','Judy', 'Lena']\n",
    "name_list[0] = 'Simon'\n",
    "print(name_list)"
   ]
  },
  {
   "cell_type": "markdown",
   "metadata": {
    "colab_type": "text",
    "id": "ufGRB4qFnBIb"
   },
   "source": [
    "#### Try it out #5\n",
    "Given the list of fruits below, replace `'Cherry'` to `'Grape'` and print out the new fruit list\n",
    "\n",
    "Expected output\n",
    "    \n",
    "    ['Apple', 'Grape', 'Orange','Banana','Lemon', 'Watermelon']"
   ]
  },
  {
   "cell_type": "code",
   "execution_count": null,
   "metadata": {
    "colab": {},
    "colab_type": "code",
    "id": "XXxSBRwynBIb"
   },
   "outputs": [],
   "source": [
    "fruits = ['Apple', 'Cherry', 'Orange','Banana','Lemon', 'Watermelon']\n",
    "#Write your code here"
   ]
  },
  {
   "cell_type": "markdown",
   "metadata": {
    "colab_type": "text",
    "id": "gt1hID8wnBIe"
   },
   "source": [
    "**Check if value exists in a list - `in`**\n",
    "```Python\n",
    "# check if Alex is in the namelist\n",
    "print('Alex' in name_list)\n",
    "# to check, the element must be exact\n",
    "print('Jane' in name_list)\n",
    "```\n",
    "\n",
    "Output \n",
    "\n",
    "    False\n",
    "    True\n",
    " "
   ]
  },
  {
   "cell_type": "markdown",
   "metadata": {
    "colab_type": "text",
    "id": "q-01TFn6nBIe"
   },
   "source": [
    "**Number of items in a list - len()**\n",
    "\n",
    "```Python\n",
    "weekdays = ['Monday', 'Tuesday', 'Wednesday', 'Thursday', 'Friday']\n",
    "print('Numbers of weekdays :', len(weekdays))\n",
    "```\n",
    "\n",
    "Output\n",
    "    \n",
    "    Numbers of weekdays : 5"
   ]
  },
  {
   "cell_type": "markdown",
   "metadata": {
    "colab_type": "text",
    "id": "p-kuVcVRnBIf"
   },
   "source": [
    "#### Try it out #6\n",
    "Given the list of fruits, assuming the cost of each fruits are $2 each, making use of the `len()` function, calculate the total price of the fruits\n",
    "\n",
    "Expected Output:\n",
    "\n",
    "        $12"
   ]
  },
  {
   "cell_type": "code",
   "execution_count": null,
   "metadata": {
    "colab": {},
    "colab_type": "code",
    "id": "fPkScQnznBIf"
   },
   "outputs": [],
   "source": [
    "fruits = ['Apple', 'Cherry', 'Orange','Banana','Lemon', 'Watermelon']\n",
    "#Write your code here\n"
   ]
  },
  {
   "cell_type": "markdown",
   "metadata": {
    "colab_type": "text",
    "id": "rVN23g-3nBIh"
   },
   "source": [
    "**Adding elements to a list - `.append()`**\n",
    "\n",
    "Adds an element to the list to end back of the list.\n",
    "``` Python\n",
    "week = ['Monday', 'Tuesday', 'Wednesday', 'Thursday', 'Friday']\n",
    "week.append('Saturday')\n",
    "week.append('Sunday')\n",
    "print(week)\n",
    "```\n",
    "Output\n",
    "\n",
    "    ['Monday', 'Tuesday', 'Wednesday', 'Thursday', 'Friday', 'Saturday', 'Sunday']\n",
    "\n",
    "Add a list to the end back of the list\n",
    "``` Python\n",
    "week = ['Monday', 'Tuesday', 'Wednesday', 'Thursday', 'Friday']\n",
    "week.append(['Saturday', 'Sunday'])\n",
    "print(week)\n",
    "```\n",
    "Output\n",
    "\n",
    "    ['Monday', 'Tuesday', 'Wednesday', 'Thursday', 'Friday', 'Saturday', 'Sunday']"
   ]
  },
  {
   "cell_type": "markdown",
   "metadata": {
    "colab_type": "text",
    "id": "-BhmAQxHnBIh"
   },
   "source": [
    "**Removing a value from a list - `.remove()`**\n",
    "\n",
    "The `.remove()` function removes the very first instance of <b>a given value</b>, from left to right of the list; index 0 to the last index of a list.\n",
    "\n",
    "Example:Removing `Friday` from the list `weekdays`\n",
    "\n",
    "```Python\n",
    "weekdays.remove('Friday')\n",
    "print(weekdays)\n",
    "```\n",
    "Output\n",
    "    \n",
    "    ['Monday', 'Tuesday', 'Wednesday', 'Thursday']\n",
    "\n",
    "\n",
    "`.remove()` removes only the leftmost appearance of the value.\n",
    "\n",
    "Example:\n",
    "\n",
    "```Python\n",
    "grades = ['A','B','B','D','A','B']\n",
    "grades.remove('A')\n",
    "print(grades)\n",
    "```\n",
    "Output:\n",
    "    \n",
    "    ['B', 'B', 'D', 'A', 'B']\n",
    "    \n"
   ]
  },
  {
   "cell_type": "markdown",
   "metadata": {
    "colab_type": "text",
    "id": "6l4SeOcRnBIi"
   },
   "source": [
    "**Deleting by index - `del`**\n",
    "\n",
    "The <font color='green'><b>del</b></font> function removes a value based on its <b>index</b> \n",
    "\n",
    "Example: Deleting `Monday` from the list `weekdays`\n",
    "\n",
    "```Python\n",
    "weekdays = ['Monday', 'Tuesday', 'Wednesday', 'Thursday', 'Friday']\n",
    "del weekdays[0]\n",
    "print(weekdays)\n",
    "```\n",
    "Output\n",
    "    \n",
    "    ['Tuesday', 'Wednesday', 'Thursday', 'Friday']"
   ]
  },
  {
   "cell_type": "markdown",
   "metadata": {
    "colab_type": "text",
    "id": "u8YuaNF6nBIi"
   },
   "source": [
    "#### Try it out #7\n",
    "Given two list of items. Delete the items that do not belong to the list. \n",
    "\n",
    "Expected Output:\n",
    "\n",
    "        stationaries = ['Pencil',''Eraser','Calculator','Ruler']\n",
    "        furnitures: ['Chair','Cupboard','Sofa']"
   ]
  },
  {
   "cell_type": "code",
   "execution_count": null,
   "metadata": {
    "colab": {},
    "colab_type": "code",
    "id": "tBidQtL1nBIi"
   },
   "outputs": [],
   "source": [
    "stationaries = ['Pencil', 'Eraser','Calculator','Ruler','Table']\n",
    "furnitures = ['Pen','Chair','Cupboard','Sofa']\n",
    "# Write your codes below.\n",
    "\n"
   ]
  },
  {
   "cell_type": "markdown",
   "metadata": {
    "colab_type": "text",
    "id": "QdqbX6VlnBIl"
   },
   "source": [
    "** `sorted()`**\n",
    "\n",
    "`sorted()` sorts values in a list in ascending order on default and gives a new list of sorted values.\n",
    "The parameter `reverse=True` is added to sort values in a list in descending order.\n",
    "\n",
    "Example:\n",
    "\n",
    "```Python\n",
    "numbers = [4,7,1,3,5,9,8]\n",
    "desc = sorted(numbers, reverse=True)\n",
    "asc = sorted(numbers)\n",
    "print(desc)\n",
    "print(asc)\n",
    "```\n",
    "\n",
    "Output\n",
    "\n",
    "    [9, 8, 7, 5, 4, 3, 1]\n",
    "    [1, 3, 4, 5, 7, 8, 9]"
   ]
  },
  {
   "cell_type": "markdown",
   "metadata": {
    "colab_type": "text",
    "id": "_o042k0YnBIl"
   },
   "source": [
    "## 2.3 Tuples\n",
    "`Tuples` are just like lists and they are **immutable**.\n",
    "\n",
    "In tuples, you use round brackets `()` instead of square brackets `[]`<br>\n",
    "Accessing an element in a tuple is the same as that of a list.<br>\n",
    "The values in a tuple **cannot** be changed.\n",
    "\n",
    "Example:\n",
    "\n",
    "```Python\n",
    "atuple = (1,2,3,4)\n",
    "print(atuple[0])\n",
    "```\n",
    "\n",
    "Output:\n",
    "\n",
    "      1\n"
   ]
  },
  {
   "cell_type": "markdown",
   "metadata": {
    "colab_type": "text",
    "id": "U4UKMDOUnBIm"
   },
   "source": [
    "Try running the codes below. You will obtain an error"
   ]
  },
  {
   "cell_type": "code",
   "execution_count": null,
   "metadata": {
    "colab": {},
    "colab_type": "code",
    "id": "qBEbxz9UnBIm",
    "outputId": "2b845794-d2b7-4916-bd2b-d368ea5abe31",
    "scrolled": true
   },
   "outputs": [],
   "source": [
    "atuple = (1,2,3,4)\n",
    "atuple.append(5) # you will obtain an error\n",
    "atuple.remove(1) # you will obtain an error"
   ]
  },
  {
   "cell_type": "markdown",
   "metadata": {
    "colab_type": "text",
    "id": "Zxe90gklnBIp"
   },
   "source": [
    "**Converting `list` to `tuple`**\n",
    "\n",
    "You can convert a list to a tuple by using `tuple()`\n",
    "\n",
    "Example:\n",
    "``` Python\n",
    "scores = [8, 9 ,5]\n",
    "scorestuple = tuple(scores)\n",
    "scorestuple\n",
    "```\n",
    "Output: \n",
    "     \n",
    "     (8, 9, 5)\n"
   ]
  },
  {
   "cell_type": "markdown",
   "metadata": {
    "colab_type": "text",
    "id": "mkWrSoRznBIp"
   },
   "source": [
    "## 2.4 Dictionaries\n",
    "\n",
    "Dictionaries are characterized by `{}` and it contains multiple key-value pair.<br>\n",
    "Each key is assigned to a value just like a normal dictionary, each word is assigned to a meaning. \n",
    "\n",
    "Example\n",
    "\n",
    "```Python\n",
    "\n",
    "height = {'Tom':185, 'Darren':180}\n",
    "\n",
    "```\n",
    "You will be learning the following based on the examples below:\n",
    "1. Creating a dictonary\n",
    "2. Accessing values based on keys\n",
    "3. Updating values assigned to keys\n",
    "4. Adding new key-value pair\n",
    "5. Deleting key-value pair \n"
   ]
  },
  {
   "cell_type": "markdown",
   "metadata": {
    "colab_type": "text",
    "id": "oKIrw1-vnBIq"
   },
   "source": [
    "#### Try it out #8\n",
    "In this exercise, you will be performing the below 5 tasks by helping the teacher to consolidate the test scores for the students for the test.\n"
   ]
  },
  {
   "cell_type": "markdown",
   "metadata": {
    "colab_type": "text",
    "id": "eD9aFKztnBIq"
   },
   "source": [
    "#### #8a\n",
    "**Creating a dictionary**\n",
    "\n",
    "To create a dictionary, you have to create key-value pairs. The key and value is separated by a `:`. <br>\n",
    "The teacher would like to create a test result database to record the students mark. The teacher has finished marking 3 students' test papers.<br>\n",
    "Create a class database as follows using a dictionary.\n",
    "\n",
    "|<center>Keys: Name</center>| <center>Values: Test Score</center> | \n",
    "|:---| :----------- |\n",
    "|`Abigail`| `80`|\n",
    "|`Alex`| `60`|\n",
    "|`Betty`|`70`|\n",
    "\n",
    "Expected output:\n",
    "    \n",
    "    {'Abigail':80, 'Alex':60, 'Betty':70}\n",
    "    \n",
    "**Note:** Each dictionary key is unique, you cannot have 2 of the same key with different values assigned to it"
   ]
  },
  {
   "cell_type": "code",
   "execution_count": null,
   "metadata": {
    "colab": {},
    "colab_type": "code",
    "id": "TIEYxqZqnBIq"
   },
   "outputs": [],
   "source": [
    "#Type your code below\n"
   ]
  },
  {
   "cell_type": "markdown",
   "metadata": {
    "colab_type": "text",
    "id": "6IBh7u-bnBIs"
   },
   "source": [
    "**Accessing values based on keys**\n",
    "To access the value in a key-value pair, you have to call for the key.<br>\n",
    "Example:\n",
    "```Python\n",
    "dic = {'Key1':'old value'}\n",
    "print(dic['Key1']) \n",
    "```\n",
    "Output: \n",
    "\n",
    "    old value"
   ]
  },
  {
   "cell_type": "markdown",
   "metadata": {
    "colab_type": "text",
    "id": "Sz0pus81nBIs"
   },
   "source": [
    "#### #8b\n",
    "The teacher would like to access Abigail's mark.  Access Abigail's mark by calling for `Abigail`.\n",
    "\n",
    "Expected output:\n",
    "\n",
    "    80"
   ]
  },
  {
   "cell_type": "code",
   "execution_count": null,
   "metadata": {
    "colab": {},
    "colab_type": "code",
    "id": "YJ4CSDfdnBIt"
   },
   "outputs": [],
   "source": [
    "#Type your code below\n"
   ]
  },
  {
   "cell_type": "markdown",
   "metadata": {
    "colab_type": "text",
    "id": "HgIBRpzMnBIu"
   },
   "source": [
    "**Updating the values assigned to keys**\n",
    "To update the values assigned to keys, you have to redefine the key-value pair in the dictionary.\n",
    "\n",
    "Example:\n",
    "```Python\n",
    "dic = {'Key1':'old value'}\n",
    "dic['Key1'] = 'new value'\n",
    "print(dic)\n",
    "```\n",
    "Output:\n",
    "\n",
    "    {'Key1':'new value'}\n",
    "    "
   ]
  },
  {
   "cell_type": "markdown",
   "metadata": {
    "colab_type": "text",
    "id": "PYXr4AhWnBIv"
   },
   "source": [
    "#### #8c\n",
    "The teacher realised that Alex's test is marked wrongly and he should be given 65 marks. Update the marks for Alex accordingly.\n",
    "\n",
    "Expected output:\n",
    "    \n",
    "    {'Abigail':80, 'Alex':65, 'Betty':70}"
   ]
  },
  {
   "cell_type": "code",
   "execution_count": null,
   "metadata": {
    "colab": {},
    "colab_type": "code",
    "id": "MOU5_2aBnBIv"
   },
   "outputs": [],
   "source": [
    "#Type your code below\n"
   ]
  },
  {
   "cell_type": "markdown",
   "metadata": {
    "colab_type": "text",
    "id": "JftyfwMOnBIx"
   },
   "source": [
    "**Adding new key-value pair to dictionary**\n",
    "To add new key-value pair, you can just define a new key-value pair in the dictionary.\n",
    "\n",
    "Example\n",
    "```Python\n",
    "dic = {'Key1':'old value'}\n",
    "dic['Key2'] = 'value'\n",
    "print(dic)\n",
    "```\n",
    "Output:\n",
    "\n",
    "    {'Key1':'new value', 'Key2':'value'}"
   ]
  },
  {
   "cell_type": "markdown",
   "metadata": {
    "colab_type": "text",
    "id": "7dWhtouMnBIy"
   },
   "source": [
    "#### #8d\n",
    "The teacher has marked the test for another student named 'Nicholas'and he scored 85 for the test.\n",
    "Update the dictionary accordingly.\n",
    "\n",
    "Expected output:\n",
    "    \n",
    "    {'Abigail':80, 'Alex':65, 'Betty':70, 'Nicholas':85}"
   ]
  },
  {
   "cell_type": "code",
   "execution_count": null,
   "metadata": {
    "colab": {},
    "colab_type": "code",
    "id": "T_8dEZk7nBIy"
   },
   "outputs": [],
   "source": [
    "#Type your code below\n"
   ]
  },
  {
   "cell_type": "markdown",
   "metadata": {
    "colab_type": "text",
    "id": "JlG6loy1nBI0"
   },
   "source": [
    "**Deleting key-value pair**\n",
    "\n",
    "To delete a key-value pair from a dictionary, use <font color='green'><b>del</b></font> function.\n",
    "\n",
    "Example\n",
    "```Python\n",
    "dic = {'Key1':'new value', 'Key2':'value'}\n",
    "del dic['Key2'] \n",
    "print(dic)\n",
    "```\n",
    "Output:\n",
    "\n",
    "    {'Key1':'new value'}"
   ]
  },
  {
   "cell_type": "markdown",
   "metadata": {
    "colab_type": "text",
    "id": "Hq_b5HtAnBI0"
   },
   "source": [
    "#### #8e\n",
    "The teacher realised that Nicholas is not from his class and would like to remove him from the dictionary.\n",
    "\n",
    "Expected output:\n",
    "    \n",
    "    {'Abigail':80, 'Alex':65, 'Betty':70}"
   ]
  },
  {
   "cell_type": "code",
   "execution_count": null,
   "metadata": {
    "colab": {},
    "colab_type": "code",
    "id": "Opp5bhF2nBI0"
   },
   "outputs": [],
   "source": [
    "#Type your code below\n"
   ]
  },
  {
   "cell_type": "code",
   "execution_count": null,
   "metadata": {},
   "outputs": [],
   "source": [
    "x = [1,2,3]\n",
    "x[1] = 3\n",
    "x[3] = 4\n",
    "print(x)"
   ]
  },
  {
   "cell_type": "markdown",
   "metadata": {
    "colab_type": "text",
    "id": "zpLGTi8anBI2"
   },
   "source": [
    "## 2.5 Nested Collections\n",
    "\n",
    "Sometimes, by combining `dictionary` with `list` can help to organise data better. For example, the following data can be represented in a list of dictionaries with each eolumn title is the key of the dictionaries and each row represents each person's information.\n",
    "\n",
    "| Name | Gender | Age  | \n",
    "| ---------|---------|---------| \n",
    "|Thomas|Male|21|\n",
    "|James|Male|24|\n",
    "|Jane|Female|22|\n",
    "\n",
    "The above example can be written as follows:\n"
   ]
  },
  {
   "cell_type": "code",
   "execution_count": null,
   "metadata": {
    "colab": {},
    "colab_type": "code",
    "id": "tPw3NeDZnBI2"
   },
   "outputs": [],
   "source": [
    "personal_info = [ \n",
    "                  {'Name': 'Thomas',\n",
    "                   'Gender' : 'Male',\n",
    "                   'Age': 21},\n",
    "                  {'Name': 'James',\n",
    "                   'Gender' : 'Male',\n",
    "                   'Age': 24},\n",
    "                  {'Name': 'Jane',\n",
    "                   'Gender' : 'Female',\n",
    "                   'Age': 22}\n",
    "                ]\n",
    "print(personal_info[0]['Gender'])"
   ]
  }
 ],
 "metadata": {
  "colab": {
   "collapsed_sections": [],
   "name": "Chapter 2_Collections_Strings, Lists, Tuples and Dictionaries.ipynb",
   "provenance": []
  },
  "kernelspec": {
   "display_name": "Python 3",
   "language": "python",
   "name": "python3"
  },
  "language_info": {
   "codemirror_mode": {
    "name": "ipython",
    "version": 3
   },
   "file_extension": ".py",
   "mimetype": "text/x-python",
   "name": "python",
   "nbconvert_exporter": "python",
   "pygments_lexer": "ipython3",
   "version": "3.7.6"
  }
 },
 "nbformat": 4,
 "nbformat_minor": 1
}
