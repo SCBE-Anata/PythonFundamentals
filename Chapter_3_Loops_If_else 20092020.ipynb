{
 "cells": [
  {
   "cell_type": "markdown",
   "metadata": {
    "colab_type": "text",
    "id": "O6QwNQv-sJCd"
   },
   "source": [
    "# **Chapter 3: Loops and If Else**"
   ]
  },
  {
   "cell_type": "markdown",
   "metadata": {
    "colab_type": "text",
    "id": "R2bORfV2ur3o"
   },
   "source": [
    "# **a.  If/ If Else / If Elif Else**"
   ]
  },
  {
   "cell_type": "markdown",
   "metadata": {
    "colab_type": "text",
    "id": "KqDlpyUgg_G1"
   },
   "source": [
    "##  Basic Concept of If\n",
    "\n",
    "The syntax for a basic if statement is as follows:\n",
    "\n",
    "if condition:\n",
    "> indented statement block\n",
    "\n",
    "If the condition is true, then the indented statement block is ran, otherwise, the entire statement block is ignored. The logic of this if statement can also be illustrated using the picture below.\n",
    "\n",
    "<img src=\"https://drive.google.com/uc?id=1nPgCMnuzCoh-8iqhC5qPt990ylRnZcS1\">"
   ]
  },
  {
   "cell_type": "markdown",
   "metadata": {
    "colab_type": "text",
    "id": "Qm3D7PEY57Gp"
   },
   "source": [
    "**if statement**"
   ]
  },
  {
   "cell_type": "markdown",
   "metadata": {
    "colab_type": "text",
    "id": "Sa3DF0wr5kD5"
   },
   "source": [
    "By using if statements, you can execute a code block only *if* a condition is satisfied. "
   ]
  },
  {
   "cell_type": "code",
   "execution_count": null,
   "metadata": {
    "colab": {},
    "colab_type": "code",
    "id": "q7C1I1bY6GUZ"
   },
   "outputs": [],
   "source": [
    "x= 4\n",
    "y= 5\n",
    "\n",
    "if x > y:\n",
    "  print('Hooray!')\n",
    "  \n",
    "if x<=y:\n",
    "  print('Yay')"
   ]
  },
  {
   "cell_type": "markdown",
   "metadata": {
    "colab_type": "text",
    "id": "Q2cjHOfXCpNO"
   },
   "source": [
    "You can also create a *double* condition. In this case, for the if statement to work, both conditions must be satisfied. "
   ]
  },
  {
   "cell_type": "code",
   "execution_count": null,
   "metadata": {
    "colab": {},
    "colab_type": "code",
    "id": "zkB6clx9CxSV"
   },
   "outputs": [],
   "source": [
    "x= 4\n",
    "y= 5\n",
    "z= 3\n",
    "if x<y and x>z:\n",
    "    print('Yay!')\n",
    "\n",
    "# if x<y and x<=y:\n",
    "#   print('Double yay!')"
   ]
  },
  {
   "cell_type": "markdown",
   "metadata": {
    "colab_type": "text",
    "id": "Orc5_LpF6S0f"
   },
   "source": [
    "Usually, *if* statements are used together with *else* statements. This allows you to account for any other conditions that could occur."
   ]
  },
  {
   "cell_type": "code",
   "execution_count": null,
   "metadata": {
    "colab": {},
    "colab_type": "code",
    "id": "ctJn6UUC6tpo"
   },
   "outputs": [],
   "source": [
    "albertScores=50 \n",
    "\n",
    "if albertScores >60:\n",
    "  print('Good job')\n",
    "  \n",
    "else:\n",
    "  print('Try again')"
   ]
  },
  {
   "cell_type": "markdown",
   "metadata": {
    "colab_type": "text",
    "id": "UCPL4J657yyq"
   },
   "source": [
    "To account for more conditions, we can use the *elif* statement. If a condition in the if statement is satisfied, then we execute the code block under the if statement. Otherwise, we check if the condition in the elif statement is satisfied. If it is, we will execute the code block under the elif statement. If both are not satisfied, then we fall back on the else."
   ]
  },
  {
   "cell_type": "code",
   "execution_count": null,
   "metadata": {
    "colab": {},
    "colab_type": "code",
    "id": "lC2kpgUo8NHi"
   },
   "outputs": [],
   "source": [
    "albertScores= 60\n",
    "\n",
    "if albertScores >70:\n",
    "  print('Great job')\n",
    "elif albertScores >=60:\n",
    "  print('Good try')\n",
    "else:\n",
    "  print('Try again')\n",
    "# if albertScores < 70:\n",
    "#     print('Great job')\n",
    "# elif albertScores <=60:\n",
    "#     print('Good try')\n",
    "# else:\n",
    "#     print('Try again')"
   ]
  },
  {
   "cell_type": "markdown",
   "metadata": {
    "colab_type": "text",
    "id": "OD79-LMzu2_W"
   },
   "source": [
    "We can also choose to break out of a loop by applying a \"if\" statement. In the example below, we make use of the concepts of while loop, "
   ]
  },
  {
   "cell_type": "code",
   "execution_count": null,
   "metadata": {
    "colab": {},
    "colab_type": "code",
    "id": "zmR7rlpsu9y5"
   },
   "outputs": [],
   "source": [
    "isRaining =False\n",
    "\n",
    "counter=1\n",
    "\n",
    "while isRaining is False:\n",
    "    print('It is not raining')\n",
    "    counter+=1\n",
    "    if counter >= 3:\n",
    "    break \n",
    " \n",
    "print ('it started raining')"
   ]
  },
  {
   "cell_type": "markdown",
   "metadata": {
    "colab_type": "text",
    "id": "Lt842pp9heb-"
   },
   "source": [
    "#### **Try it out 1**\n",
    "\n",
    "Run an input asking for a number and store it to a variable. Using the if else statement, if the input is even number, print('Even number') else, print ('Odd number'). Test inputting any numbers."
   ]
  },
  {
   "cell_type": "code",
   "execution_count": null,
   "metadata": {
    "colab": {},
    "colab_type": "code",
    "id": "XsJ-fIdgiRIP"
   },
   "outputs": [],
   "source": [
    "# Type your code below."
   ]
  },
  {
   "cell_type": "markdown",
   "metadata": {
    "colab_type": "text",
    "id": "_6Ol-NfNsme3"
   },
   "source": [
    "# **b. Loops, For and While**\n",
    "\n",
    "There are four general steps to any given loop.\n",
    "\n",
    "\n",
    "\n",
    "1.   Initialize the loop control variable (the variable that dictates whether you stay or exit the loop)\n",
    "2.   Test the control variable (using relational and/or logical operators). This wil be the line will you check whether you stay/enter or exit the loop\n",
    "3.  Body of the loop, contains block of statements that you would like to repeat\n",
    "4. Update the control variable, so that when we test, we may exit the loop. This update can be before the main body loop or after. i.e. steps 3 and 4 are interchangeable.\n",
    "\n",
    "Refer to the picture below for a pictorial representation of the logic flow.\n",
    "\n",
    "<img src=\"https://drive.google.com/uc?id=1eWgGEmUZ3CX5K7yDiahs1atHAP9VfPcL\">\n",
    "\n",
    "Let us take a look at two kinds of loop, **for** and **while**"
   ]
  },
  {
   "cell_type": "markdown",
   "metadata": {
    "colab_type": "text",
    "id": "rW0c4V0VvpLj"
   },
   "source": [
    "**Uses of Increments & Decrements **"
   ]
  },
  {
   "cell_type": "markdown",
   "metadata": {
    "colab_type": "text",
    "id": "a4m3tKNqvtzC"
   },
   "source": [
    "We can increment or decrement a variable as follows. "
   ]
  },
  {
   "cell_type": "code",
   "execution_count": null,
   "metadata": {
    "colab": {},
    "colab_type": "code",
    "id": "KLViqGtJv0vi"
   },
   "outputs": [],
   "source": [
    "counter=1\n",
    "print(counter)\n",
    "\n",
    "counter+=1 #increment. This means counter = counter + 1. \n",
    "print(counter)\n",
    "\n",
    "counter-=1 #decrement. This means counter = counter - 1. \n",
    "print(counter)"
   ]
  },
  {
   "cell_type": "markdown",
   "metadata": {
    "colab_type": "text",
    "id": "Cc0QcJ4sg_HP"
   },
   "source": [
    "# **b.1. While Loops**"
   ]
  },
  {
   "cell_type": "markdown",
   "metadata": {
    "colab_type": "text",
    "id": "5JJhwC4ks7lD"
   },
   "source": [
    "A while loop works by looping over a certain segment of the code if the given condition remains true. In the example below, we initialise the condition variable to be 1 in the beginning. We then make a comparison between the value \n",
    "in the condition variable with number 10. If the value in the condition variable is less than 10, we print  the value and then increment the value by 1.\n"
   ]
  },
  {
   "cell_type": "code",
   "execution_count": null,
   "metadata": {
    "colab": {},
    "colab_type": "code",
    "id": "MSgwL1avs9HX"
   },
   "outputs": [],
   "source": [
    "condition =1\n",
    "\n",
    "while condition<10:\n",
    "    print(condition)\n",
    "    condition+=1"
   ]
  },
  {
   "cell_type": "markdown",
   "metadata": {
    "colab_type": "text",
    "id": "3WjlLaeTug2f"
   },
   "source": [
    "Understanding Question: Why doesn't it print out 10?"
   ]
  },
  {
   "cell_type": "markdown",
   "metadata": {
    "colab_type": "text",
    "id": "nwrPzaoFuGtg"
   },
   "source": [
    "**More examples**"
   ]
  },
  {
   "cell_type": "markdown",
   "metadata": {
    "colab_type": "text",
    "id": "uucbrDA21sg2"
   },
   "source": [
    "If we do not introduce a breaking condition in a while loop, the loop will go on forever."
   ]
  },
  {
   "cell_type": "code",
   "execution_count": null,
   "metadata": {
    "colab": {},
    "colab_type": "code",
    "id": "dSN0yGMRuX3k"
   },
   "outputs": [],
   "source": [
    "\n",
    "while True:\n",
    "  print('Are you sleepy?')\n",
    "  print('Hope you are not!')\n",
    "  "
   ]
  },
  {
   "cell_type": "markdown",
   "metadata": {
    "colab_type": "text",
    "id": "iDOmg_fnjKiR"
   },
   "source": [
    "#### **Try it out 2**\n",
    "Create a while loop that counts the number of people entering a room which can only hold 5 people. When a person enters the room, `print('Welcome!')` and when it reaches 5 people in the room, `print('The room is full, please wait!')`."
   ]
  },
  {
   "cell_type": "code",
   "execution_count": null,
   "metadata": {
    "colab": {},
    "colab_type": "code",
    "id": "e0mn18LwkVpc"
   },
   "outputs": [],
   "source": [
    "# Type your code below\n",
    "count = 0\n",
    "while count < 5:\n",
    "    print('Welcome')\n",
    "    count+=1\n",
    "print('The room is full, please wait!')"
   ]
  },
  {
   "cell_type": "markdown",
   "metadata": {
    "colab_type": "text",
    "id": "CmsDpoFHumUW"
   },
   "source": [
    "# **b.2. For Loops**"
   ]
  },
  {
   "cell_type": "markdown",
   "metadata": {
    "colab_type": "text",
    "id": "RMlg2RrG1H4E"
   },
   "source": [
    "For a for loop, you iterate through a block of code for the number of times specified. In the example below, i is a variable that takes on the value assigned to it in the loop. (Python, like several other programming languages,  starts counting from 0!)"
   ]
  },
  {
   "cell_type": "code",
   "execution_count": null,
   "metadata": {
    "colab": {},
    "colab_type": "code",
    "id": "yLmkeLMU2aF0"
   },
   "outputs": [],
   "source": [
    "for i in range(5): #in this case, range(5) generates a list of numbers from 0 to 4, which we will loop over in the for loop\n",
    "  print(i)"
   ]
  },
  {
   "cell_type": "markdown",
   "metadata": {
    "colab_type": "text",
    "id": "TcXVGL3V20fU"
   },
   "source": [
    "**How to use range()**\n",
    "\n",
    "*Parameters of range()*\n",
    "Range() consists of a start, stop and a step parameter. This means that you can define the starting point, the ending point and the value of each increment (or decrement).\n",
    "\n",
    "Syntax: range(* [start], [end], [increment] *)\n",
    "\n",
    "You can also start by looping from the end, simply by using -1. "
   ]
  },
  {
   "cell_type": "code",
   "execution_count": null,
   "metadata": {
    "colab": {},
    "colab_type": "code",
    "id": "GxOXbhD73YUv"
   },
   "outputs": [],
   "source": [
    "for i in range(2,10,2):\n",
    "  print(i)"
   ]
  },
  {
   "cell_type": "code",
   "execution_count": null,
   "metadata": {
    "colab": {},
    "colab_type": "code",
    "id": "BNmN5hXr38QJ"
   },
   "outputs": [],
   "source": [
    "for i in range(0, -5, -1): # in this case, we are going backwards\n",
    "  print(i)"
   ]
  },
  {
   "cell_type": "markdown",
   "metadata": {
    "colab_type": "text",
    "id": "z6ngfLg-4MYX"
   },
   "source": [
    "We can also iterate through a list."
   ]
  },
  {
   "cell_type": "code",
   "execution_count": null,
   "metadata": {
    "colab": {},
    "colab_type": "code",
    "id": "8uDkNy8_2JCn"
   },
   "outputs": [],
   "source": [
    "groceryItems=['apples', 7 , True]\n",
    "\n",
    "for item in groceryItems:\n",
    "  print(item)\n"
   ]
  },
  {
   "cell_type": "markdown",
   "metadata": {
    "colab_type": "text",
    "id": "3Cz3s03E4Va9"
   },
   "source": [
    "else, we can use len() method to iterate through a list too. In this example, we find the length of the list, and then use the for loop to loop over the elements in the list. "
   ]
  },
  {
   "cell_type": "code",
   "execution_count": null,
   "metadata": {},
   "outputs": [],
   "source": [
    "for i in range(len(groceryItems)):\n",
    "    print(groceryItems[i])"
   ]
  },
  {
   "cell_type": "markdown",
   "metadata": {
    "colab_type": "text",
    "id": "wyLfSWDplJCF"
   },
   "source": [
    "#### **Try it out 3**\n",
    "Using a for loop, calculate the number of items in the list and represent the number count in a dictionary."
   ]
  },
  {
   "cell_type": "code",
   "execution_count": null,
   "metadata": {
    "colab": {},
    "colab_type": "code",
    "id": "S0beWuKhik-O"
   },
   "outputs": [],
   "source": [
    "x = ['Apple','Pear','Orange','Pineapple','Lime','Lemon','Lemon','Orange','Lime']\n",
    "count_dict = {}\n",
    "# Type your code below\n"
   ]
  },
  {
   "cell_type": "markdown",
   "metadata": {
    "colab_type": "text",
    "id": "_Eu5NrxcW74Q"
   },
   "source": [
    "# **c. Additional Exercises**\n"
   ]
  },
  {
   "cell_type": "markdown",
   "metadata": {
    "colab_type": "text",
    "id": "l7qmyuu2g_Hg"
   },
   "source": [
    "## Exercise 1\n",
    "\n",
    "Write a Python program that reads an integer from the user, which is the height of the pattern\n",
    "below, and then prints out the pattern as below. \n",
    "\n",
    "Sample programme execution:\n",
    "\n",
    "<img src=\"https://drive.google.com/uc?export=view&id=1BIZUMYK6DuxAmEnBJwrZuge_Fr7Wwvrg\" width = \"550\">\n",
    "\n",
    "\n",
    "Hint:\n",
    "use **print(\"AA\",end=\"\")** to eliminate automatic newline"
   ]
  },
  {
   "cell_type": "code",
   "execution_count": null,
   "metadata": {
    "colab": {},
    "colab_type": "code",
    "id": "BsfhSOhfg_Hg"
   },
   "outputs": [],
   "source": [
    "## Type your code here\n"
   ]
  },
  {
   "cell_type": "code",
   "execution_count": null,
   "metadata": {},
   "outputs": [],
   "source": [
    "height = int(input(\"input height: \")) + 1\n",
    "\n",
    "for i in range(1,height):\n",
    "    mystr = \"\"\n",
    "    for j in range(1,i+1):\n",
    "        if j%2 == 0:\n",
    "            mystr = \"BB\" + mystr\n",
    "        else:\n",
    "            mystr = \"AA\" + mystr\n",
    "    print(mystr)"
   ]
  },
  {
   "cell_type": "markdown",
   "metadata": {
    "colab_type": "text",
    "id": "q82MPoL6g_Hi"
   },
   "source": [
    "## Exercise 2\n",
    "\n",
    "Write a program that reads the student marks one by one and then computes his/her\n",
    "grade according to the following table.\n",
    "\n",
    "Grade | Score range\n",
    "--- | ---\n",
    "A | >= 85\n",
    "B | >= 65 but < 85\n",
    "C | >= 45 but < 65\n",
    "F | < 45\n",
    "\n",
    "The program is terminated when the user enters a value of -1. In addition, when the program terminates, it reports the maximum and minimum from the set of marks that have been provided.\n",
    "\n",
    "Hint: use **break** to exit out of loops. **break** only exits out of the loop it is position under.\n",
    "\n",
    "i.e. loop 1\n",
    "> loop 2\n",
    ">> loop 3\n",
    ">>> break\n",
    "\n",
    "Here, break only breaks out of loop 3. loop 2 and loop 1 will still continue to run."
   ]
  },
  {
   "cell_type": "code",
   "execution_count": null,
   "metadata": {
    "colab": {},
    "colab_type": "code",
    "id": "4qKLJIJkg_Hj"
   },
   "outputs": [],
   "source": [
    "## Type your code here"
   ]
  },
  {
   "cell_type": "code",
   "execution_count": null,
   "metadata": {},
   "outputs": [],
   "source": [
    "print(\"note: enter -1 to end.\")\n",
    "\n",
    "score = 0\n",
    "max_score = 0\n",
    "min_score = 100\n",
    "grade= ''\n",
    "count = 0\n",
    "while score > -1:\n",
    "    score = int(input(\"input score: \"))\n",
    "\n",
    "    if score == -1:\n",
    "        break;\n",
    "    count += 1\n",
    "    while score < -1:\n",
    "        print(\"impossible, input again\")\n",
    "        score = int(input(\"input score: \"))\n",
    "    \n",
    "    #get the grade\n",
    "    if score >= 85:\n",
    "        grade = 'A'\n",
    "    elif 65<= score < 85:\n",
    "        grade = 'B'\n",
    "    elif 45<= score <65:\n",
    "        grade = \"C\"\n",
    "    else:\n",
    "        grade = \"F\"\n",
    "    print(\"grade:\",grade)\n",
    "    #get min and max\n",
    "    if 0<score<min_score:\n",
    "        min_score = score\n",
    "    if score > max_score:\n",
    "        max_score = score\n",
    "\n",
    "if count > 0:\n",
    "    print(\"max_score =\", max_score)\n",
    "    print(\"min_score =\", min_score)\n",
    "else:  #For handling case were -1 first input\n",
    "    print(\"no marks were inputed\")"
   ]
  }
 ],
 "metadata": {
  "colab": {
   "collapsed_sections": [],
   "name": "Chapter_3_Loops_&_If_else.ipynb",
   "private_outputs": true,
   "provenance": []
  },
  "kernelspec": {
   "display_name": "Python 3",
   "language": "python",
   "name": "python3"
  },
  "language_info": {
   "codemirror_mode": {
    "name": "ipython",
    "version": 3
   },
   "file_extension": ".py",
   "mimetype": "text/x-python",
   "name": "python",
   "nbconvert_exporter": "python",
   "pygments_lexer": "ipython3",
   "version": "3.7.6"
  }
 },
 "nbformat": 4,
 "nbformat_minor": 1
}
