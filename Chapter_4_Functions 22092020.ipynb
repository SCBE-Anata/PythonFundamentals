{
 "cells": [
  {
   "cell_type": "markdown",
   "metadata": {
    "colab_type": "text",
    "id": "0snMYctH-PhO"
   },
   "source": [
    "# Chapter 4: Functions"
   ]
  },
  {
   "cell_type": "markdown",
   "metadata": {
    "colab_type": "text",
    "id": "gvqj91dC-hat"
   },
   "source": [
    "## (a) Introduction"
   ]
  },
  {
   "cell_type": "markdown",
   "metadata": {
    "colab_type": "text",
    "id": "trKq3Lpx_P3P"
   },
   "source": [
    "Purpose: When you have a set of instructions that you want to call repeatedly, it is inefficient to have repeated blocks of code that are doing the same thing (i.e. achieves the same function). Essentially, a function is a code that is written to achieve a specific task."
   ]
  },
  {
   "cell_type": "markdown",
   "metadata": {
    "colab_type": "text",
    "id": "Hpf4R8uNezXV"
   },
   "source": [
    "Types of Functions in Python:\n",
    "\n",
    "1. Built-in Functions\n",
    "1. User-Defined Functions\n",
    "1. Anonymous Functions\n",
    "\n",
    "\n"
   ]
  },
  {
   "cell_type": "markdown",
   "metadata": {
    "colab_type": "text",
    "id": "EH3WD0zIa5R0"
   },
   "source": [
    "## (b) Built-in Functions\n",
    "These are functions that are part of the Python programming language or come from the libraries that you import.\n",
    "\n",
    "A list of the built-in functions in Python can be found here: https://docs.python.org/3/library/functions.html \n",
    "\n",
    "Examples:"
   ]
  },
  {
   "cell_type": "code",
   "execution_count": null,
   "metadata": {
    "colab": {},
    "colab_type": "code",
    "id": "uszZYe26bLuu"
   },
   "outputs": [],
   "source": [
    "#function takes in an integer and returns the absolute value \n",
    "\n",
    "abs(-7)"
   ]
  },
  {
   "cell_type": "code",
   "execution_count": null,
   "metadata": {
    "colab": {},
    "colab_type": "code",
    "id": "gcqhjJNHcI-2"
   },
   "outputs": [],
   "source": [
    "#function takes in an argument and returns the string equivalent of it\n",
    "\n",
    "str(7) #takes in an int in this case, returns a string '7'"
   ]
  },
  {
   "cell_type": "code",
   "execution_count": null,
   "metadata": {
    "colab": {
     "base_uri": "https://localhost:8080/",
     "height": 34
    },
    "colab_type": "code",
    "id": "3ms-9PGCdAe8",
    "outputId": "dd8d769c-5eee-448f-e473-7434ae730c6f"
   },
   "outputs": [],
   "source": [
    "#function takes in an iterable as an argument, and returns the sum of all values\n",
    "\n",
    "sum([1,2,3], 5)"
   ]
  },
  {
   "cell_type": "code",
   "execution_count": null,
   "metadata": {
    "colab": {
     "base_uri": "https://localhost:8080/",
     "height": 68
    },
    "colab_type": "code",
    "id": "327rvgqTdQBO",
    "outputId": "bc49e447-b8ba-4d23-9117-56cbb8ca8897"
   },
   "outputs": [],
   "source": [
    "#function to check the type of the object \n",
    "\n",
    "print(type(1)) #int\n",
    "\n",
    "print(type({1,2,3})) #set\n",
    "\n",
    "enzymes = { \n",
    "    'EcoRI' : r'GAATTC', \n",
    "    'AvaII' : r'GG(A|T)CC', \n",
    "    'BisI'  : r'GC[ATGC]GC' \n",
    "}\n",
    "print(type(enzymes))"
   ]
  },
  {
   "cell_type": "markdown",
   "metadata": {
    "colab_type": "text",
    "id": "LKORX90afP-A"
   },
   "source": [
    "## (c) User-Defined Functions\n",
    "These are functions that are created by the user to achieve a specific task (that is not covered by any built-in function). \n",
    "\n",
    "The four steps to defining a function in Python are the following:\n",
    "\n",
    "1. Use the keyword *def* to declare the function and follow this up with the function name.\n",
    "1. Add parameters to the function: they should be within the parentheses of the function. End your line with a colon.\n",
    "1. Add statements that the functions should execute.\n",
    "1. End your function with a return statement if the function should output something. Without the return statement, your function will return an object *None*.\n",
    "\n",
    "\n",
    "```\n",
    "def function_name(arg1, arg2):\n",
    "##code \n",
    "##code\n",
    "return\n",
    "```\n",
    "\n",
    "\n",
    "\n",
    "Examples:"
   ]
  },
  {
   "cell_type": "code",
   "execution_count": null,
   "metadata": {
    "colab": {
     "base_uri": "https://localhost:8080/",
     "height": 34
    },
    "colab_type": "code",
    "id": "h9q_91yIotyN",
    "outputId": "99e2fe6b-ef8b-4369-f0ff-669dad47c7c1"
   },
   "outputs": [],
   "source": [
    "def printSomethingThrice(text):\n",
    "  print((text+ \" \") * 3)\n",
    "  return\n",
    "\n",
    "\n",
    "\n",
    "printSomethingThrice(\"lemma\")"
   ]
  },
  {
   "cell_type": "code",
   "execution_count": null,
   "metadata": {
    "colab": {
     "base_uri": "https://localhost:8080/",
     "height": 68
    },
    "colab_type": "code",
    "id": "EDLH4ni4f22w",
    "outputId": "bc9ef0a3-e5ce-4be9-d6db-eab5f895505a"
   },
   "outputs": [],
   "source": [
    "#this function takes in no arguments\n",
    "def hello(): \n",
    "  name = str(input(\"Enter your name: \")) #asking for user input\n",
    "  if name:\n",
    "    print (\"Hello \" + str(name))\n",
    "  else:\n",
    "    print(\"Hello World\") \n",
    "  return name #This is a returned variable\n",
    "\n",
    "#calling the function\n",
    "n = hello() \n",
    "print(n)"
   ]
  },
  {
   "cell_type": "code",
   "execution_count": null,
   "metadata": {
    "colab": {},
    "colab_type": "code",
    "id": "VcgDH_Peg1Xw"
   },
   "outputs": [],
   "source": [
    "#this function takes in a list of numbers and finds the average\n",
    "def average(x):\n",
    "  print(x)\n",
    "  return sum(x) / len(x) #sum() is the sum of the list, len() is the number of elements in the list\n",
    "\n",
    "#calling the function\n",
    "numbers = [1, 4, 12, 25]\n",
    "average_number = average(numbers)\n",
    "\n",
    "print(\"Average of the list of numbers: \" + str(average_number)) #Can anyone guess why we need the str() function?"
   ]
  },
  {
   "cell_type": "markdown",
   "metadata": {
    "colab_type": "text",
    "id": "-0hTrG15lPVi"
   },
   "source": [
    "### How To Add Docstrings To A Python Function\n",
    "Another essential aspect of writing functions in Python: docstrings. Docstrings describe what your function does, such as the computations it performs or its return values. These descriptions serve as documentation for your function so that anyone who reads your function’s docstring understands what your function does, without having to trace through all the code in the function definition.\n",
    "\n",
    "Function docstrings are placed in the immediate line after the function header and are placed in between triple quotation marks."
   ]
  },
  {
   "cell_type": "code",
   "execution_count": null,
   "metadata": {
    "colab": {
     "base_uri": "https://localhost:8080/",
     "height": 34
    },
    "colab_type": "code",
    "id": "IqVN3Jwllchl",
    "outputId": "5d3803d2-7371-4107-d99f-98e8a2cf027f"
   },
   "outputs": [],
   "source": [
    "def hello():\n",
    "    \"\"\"Prints \"Hello World\". Returns:None\"\"\"\n",
    "    print(\"Hello World\") \n",
    "    return \n",
    "\n",
    "hello()"
   ]
  },
  {
   "cell_type": "markdown",
   "metadata": {
    "colab_type": "text",
    "id": "CtX8bS-LnBgo"
   },
   "source": [
    "### Function Arguments in Python\n",
    "There are four types of arguments that Python UDFs can take:\n",
    "\n",
    "1. Default arguments\n",
    "1. Required arguments\n",
    "1. Keyword arguments\n",
    "1. Variable number of arguments\n"
   ]
  },
  {
   "cell_type": "markdown",
   "metadata": {
    "colab_type": "text",
    "id": "Is1hBU_WnK_p"
   },
   "source": [
    "**Default Arguments**\n",
    "\n",
    "Default arguments are those that take a default value if no argument value is passed during the function call. You can assign this default value by with the assignment operator  = , just like in the following example:"
   ]
  },
  {
   "cell_type": "code",
   "execution_count": null,
   "metadata": {
    "colab": {
     "base_uri": "https://localhost:8080/",
     "height": 248
    },
    "colab_type": "code",
    "id": "9UBoZGnwnWG-",
    "outputId": "c9167801-586e-405d-ef60-c61b9ef33cb0"
   },
   "outputs": [],
   "source": [
    "def plus(a,b = 2):\n",
    "    return a,b\n",
    "  \n",
    "# Call `plus()` with only `a` parameter\n",
    "print(plus(10)) #by default, b is equal to 2\n",
    "\n",
    "# Call `plus()` with `a` and `b` parameters\n",
    "print(plus(a=1, b=3)) #specifying the value of b will override the default value\n",
    "\n",
    "# # Call `plus()` with `a` and `b` parameters without defining\n",
    "print(plus(4, 5)) #arguments are taken in sequence\n",
    "\n",
    "# # Error occurs if a parameter is not defined\n",
    "print(plus(b=3)) #'a' is not defined here"
   ]
  },
  {
   "cell_type": "markdown",
   "metadata": {
    "colab_type": "text",
    "id": "R2r_AOpLoP0u"
   },
   "source": [
    "**Required Arguments**\n",
    "\n",
    "As the name kind of gives away, the required arguments of a UDF are those that have to be in there. These arguments need to be passed during the function call and in exactly the right order, just like in the following example:"
   ]
  },
  {
   "cell_type": "code",
   "execution_count": null,
   "metadata": {
    "colab": {},
    "colab_type": "code",
    "id": "ELURTAezoWYe"
   },
   "outputs": [],
   "source": [
    "def divide(a,b):\n",
    "    return a/b\n",
    "\n",
    "print(divide(8,2))\n",
    "\n",
    "print(divide(2,8))\n",
    "print(divide(2))"
   ]
  },
  {
   "cell_type": "markdown",
   "metadata": {
    "colab_type": "text",
    "id": "ZA9kPecFongt"
   },
   "source": [
    "**Keyword Arguments**\n",
    "\n",
    "If you want to make sure that you call all the parameters in the right order, you can use the keyword arguments in your function call. You use these to identify the arguments by their parameter name. Let’s take the example from above to make this a bit more clear:"
   ]
  },
  {
   "cell_type": "code",
   "execution_count": null,
   "metadata": {
    "colab": {},
    "colab_type": "code",
    "id": "cHuZLajBoxJ3"
   },
   "outputs": [],
   "source": [
    "def divide(a,b):\n",
    "    return a/b\n",
    "\n",
    "# Call `divide()` function with keyword arguments\n",
    "print(divide(a=1, b=2))\n",
    "\n",
    "#function still works even if you switch the order around\n",
    "print(divide(b=2, a=1))"
   ]
  },
  {
   "cell_type": "markdown",
   "metadata": {
    "colab_type": "text",
    "id": "Gov6cQCxpHjl"
   },
   "source": [
    "**Variable Number of Arguments**\n",
    "\n",
    "In cases where you don’t know the exact number of arguments that you want to pass to a function, you can use the following syntax with *args:"
   ]
  },
  {
   "cell_type": "code",
   "execution_count": null,
   "metadata": {
    "colab": {},
    "colab_type": "code",
    "id": "Hi50XveSpfDW"
   },
   "outputs": [],
   "source": [
    "def plus(*args):\n",
    "    return sum(args)\n",
    "\n",
    "# Calculate the sum\n",
    "plus(1,4,5,2)"
   ]
  },
  {
   "cell_type": "markdown",
   "metadata": {
    "colab_type": "text",
    "id": "Xgz204S3qF4E"
   },
   "source": [
    "## (d) Anonymous Functions\n",
    "\n",
    "Anonymous functions, as their name suggests, are functions that are not named by the user. They are also called lambda functions, because instead of declaring them with the standard *def* keyword, you use the *lambda* keyword.\n",
    "\n",
    "Syntax:\n",
    "\n",
    "```\n",
    "lambda arguments: expression\n",
    "```\n",
    "\n",
    "\n",
    "\n"
   ]
  },
  {
   "cell_type": "code",
   "execution_count": null,
   "metadata": {
    "colab": {
     "base_uri": "https://localhost:8080/",
     "height": 34
    },
    "colab_type": "code",
    "id": "k-65TWWDqgBt",
    "outputId": "4cfe5d31-54d4-45f6-bb57-135ced2b54ef",
    "scrolled": true
   },
   "outputs": [],
   "source": [
    "print((lambda x: x*2)(5))"
   ]
  },
  {
   "cell_type": "markdown",
   "metadata": {
    "colab_type": "text",
    "id": "4CyLunxxqyHn"
   },
   "source": [
    "This is the same as:"
   ]
  },
  {
   "cell_type": "code",
   "execution_count": null,
   "metadata": {
    "colab": {
     "base_uri": "https://localhost:8080/",
     "height": 34
    },
    "colab_type": "code",
    "id": "JJtRBPpxqzi_",
    "outputId": "f1f558a6-2863-4480-8d34-e461d6cd61ce",
    "scrolled": true
   },
   "outputs": [],
   "source": [
    "def double(x):\n",
    "    return x*2\n",
    "\n",
    "double(5)"
   ]
  },
  {
   "cell_type": "markdown",
   "metadata": {
    "colab_type": "text",
    "id": "wLZjHuE_rIAU"
   },
   "source": [
    "You use anonymous functions when you require a nameless function for a short period of time and that is created at runtime. Specific contexts in which this would be relevant is when you’re working with *filter()*, *map() *and *reduce()*"
   ]
  },
  {
   "cell_type": "markdown",
   "metadata": {},
   "source": [
    "What if you want to input a list of numbers into the function `double()` to return a list of the same numbers multiply by 2? You cannot use back the same function `double()`. "
   ]
  },
  {
   "cell_type": "code",
   "execution_count": null,
   "metadata": {},
   "outputs": [],
   "source": [
    "samples = [5,4,3,1,2,3,4,5,6]"
   ]
  },
  {
   "cell_type": "code",
   "execution_count": null,
   "metadata": {},
   "outputs": [],
   "source": [
    "print(double(samples))\n"
   ]
  },
  {
   "cell_type": "code",
   "execution_count": null,
   "metadata": {},
   "outputs": [],
   "source": [
    "def double1(x):\n",
    "    results = list()\n",
    "    for i in x:\n",
    "        results.append(i*2)\n",
    "    return results"
   ]
  },
  {
   "cell_type": "code",
   "execution_count": null,
   "metadata": {},
   "outputs": [],
   "source": [
    "print(double1(samples))\n",
    "print(list(map(lambda x: x*2,samples)))"
   ]
  },
  {
   "cell_type": "markdown",
   "metadata": {
    "colab_type": "text",
    "id": "Gtw0pscCrWAs"
   },
   "source": [
    "## (e) Exercises\n",
    "1. Write a shutting down program:\n",
    "\n",
    "First, def a function, shut_down, that takes one argument s. Then, if the shut_down function receives an s equal to \"yes\", it should return \"Shutting down\" Alternatively, elif s is equal to \"no\", then the function should return \"Shutdown aborted\". Finally, if shut_down gets anything other than those inputs, the function should return \"Sorry\".\n",
    "\n",
    "2. Write a simple Calculator app between two integers. The  calculator app can do addition, subtraction, multiplication and division by having an argument of 'a' as addition, 'm' as multiplication, 's' as substraction and 'd' as division, else prompt them to use 'a','s','m','d' as the argument.\n"
   ]
  },
  {
   "cell_type": "code",
   "execution_count": null,
   "metadata": {
    "colab": {
     "base_uri": "https://localhost:8080/",
     "height": 51
    },
    "colab_type": "code",
    "id": "xPZe1k8Itu2_",
    "outputId": "7b1aa12e-16b3-45d7-db20-b91a15db8ad2"
   },
   "outputs": [],
   "source": [
    "def shut_down(s):\n",
    "    if s=='yes':\n",
    "        return \"Shutting Down\"\n",
    "    elif s=='no':\n",
    "        return \"Shutdown aborted\"\n",
    "    else :\n",
    "        return \"Sorry\"\n",
    "  \n",
    "x = input(\"Enter a value: \")\n",
    "print(shut_down(x))"
   ]
  },
  {
   "cell_type": "code",
   "execution_count": null,
   "metadata": {
    "colab": {
     "base_uri": "https://localhost:8080/",
     "height": 34
    },
    "colab_type": "code",
    "id": "meAUIBJDwGRt",
    "outputId": "d2647a76-7274-441a-b141-ca668a8c0c9e"
   },
   "outputs": [],
   "source": [
    "def calculator(a,b,opname):\n",
    "    if opname=='a':\n",
    "        result=a+b\n",
    "    elif opname=='s':\n",
    "        result=a-b\n",
    "    elif opname=='m':\n",
    "        result=a*b\n",
    "    elif opname=='d':\n",
    "        result=a/b\n",
    "    else:\n",
    "        result = \"Please use 'a' for addition, 's' for substraction,'m' for multiplication and 'd' for division.\"\n",
    "    return result\n",
    "print(calculator(2857,36,'a'))"
   ]
  }
 ],
 "metadata": {
  "colab": {
   "collapsed_sections": [],
   "name": "Chapter_4_Functions.ipynb",
   "provenance": []
  },
  "kernelspec": {
   "display_name": "Python 3",
   "language": "python",
   "name": "python3"
  },
  "language_info": {
   "codemirror_mode": {
    "name": "ipython",
    "version": 3
   },
   "file_extension": ".py",
   "mimetype": "text/x-python",
   "name": "python",
   "nbconvert_exporter": "python",
   "pygments_lexer": "ipython3",
   "version": "3.7.6"
  }
 },
 "nbformat": 4,
 "nbformat_minor": 1
}
