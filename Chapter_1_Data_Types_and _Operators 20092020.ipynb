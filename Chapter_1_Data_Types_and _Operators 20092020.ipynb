{
 "cells": [
  {
   "cell_type": "markdown",
   "metadata": {
    "colab_type": "text",
    "id": "cYAhZRQANbs0"
   },
   "source": [
    "# **Chapter 1: Data Types and Operators**\n",
    "\n",
    "## Learning Objectives:\n",
    "\n",
    "\n",
    "*   Identify data types (integer, strings, floats, boolean) in Python\n",
    "* Understand how to convert between data types\n",
    "*   Familiarize with operations of various data types in Python\n",
    "*  Know how different data types interact"
   ]
  },
  {
   "cell_type": "markdown",
   "metadata": {
    "colab_type": "text",
    "id": "lzBabQP8jje8"
   },
   "source": [
    "**Special Thanks to: **\n",
    "\n",
    "The following notes are adapted from the following people:\n",
    "\n",
    "1. Darren\n",
    "2. Sarah\n",
    "3. Hakim\n",
    "4. Chin Hong\n",
    "5. Charlene \n",
    "\n"
   ]
  },
  {
   "cell_type": "code",
   "execution_count": null,
   "metadata": {},
   "outputs": [],
   "source": []
  },
  {
   "cell_type": "markdown",
   "metadata": {
    "colab_type": "text",
    "id": "CPkqchHPTt0M"
   },
   "source": [
    "## 1.1 Data Types\n",
    "\n",
    "In python, every \"thing\" is an object with a type. The four basic data types common across most languages are:\n",
    "\n",
    "| Data Type | type() | Example |\n",
    "|- | -| - |\n",
    "| Integer | `<int>` | `25` |\n",
    "| Float | `<float>` | `25.1 (Decimals)` |\n",
    "| Boolean | `<bool>` | `True` or `False`|\n",
    "| String | `<str>` | `'apple' (demarcated by ' ' or \" \")`|\n",
    "\n",
    "To check the type of data type, you can use the syntax `type()`\n",
    "\n",
    "##### Example:\n",
    "\n",
    "```Python\n",
    "x = 1\n",
    "print(type(x))\n",
    "```\n",
    "Output:\n",
    "\n",
    "    <class 'int'>\n"
   ]
  },
  {
   "cell_type": "code",
   "execution_count": null,
   "metadata": {
    "colab": {},
    "colab_type": "code",
    "id": "RVjmyRQdfrlk"
   },
   "outputs": [],
   "source": [
    "x = 1\n",
    "y = 'hi'\n",
    "z = 2.0\n",
    "# Use the type() syntax to identify the datatype of each variables\n",
    "type(x)\n"
   ]
  },
  {
   "cell_type": "markdown",
   "metadata": {
    "colab_type": "text",
    "id": "Vbkpnyz4wwz6"
   },
   "source": [
    "### 1.1.1 Data Conversion/Typecasting\n",
    "\n",
    "Certain functions in Python takes in only a particular data type, or outputs data of a particular type. Thus, it would be essential to know how data can be converted from one type to another. The common functions for converting are **str, int** and **float**"
   ]
  },
  {
   "cell_type": "code",
   "execution_count": null,
   "metadata": {
    "colab": {},
    "colab_type": "code",
    "id": "xAqe3HAFxQfq",
    "outputId": "eed27831-1d5a-47d1-e7d4-3f5b5deac0a2"
   },
   "outputs": [],
   "source": [
    "x=123; y='123'\n",
    "y=float(y)\n",
    "type(y)"
   ]
  },
  {
   "cell_type": "markdown",
   "metadata": {
    "colab_type": "text",
    "id": "3KRLUR8sfrlr"
   },
   "source": [
    "## 1.2 Variables\n",
    "* `Variables` are like algebra in mathematics. They store data which just like how you do algebra (assign `x=1`). However, unlike algebra where it can only store numbers, `Variables` can store all the 4 data types mentioned above.\n",
    "\n",
    "\n",
    "### Rules for Variable Names\n",
    "\n",
    "\n",
    "* Must start with letter or underscore\n",
    "* Cannot contain spaces (use `_` instead)\n",
    "* Should not use python's reserved names, e.g. `sum`, `list`, `for`, `def`, `if`, `else`. \n",
    "* Variables are case sensitive eg. `Apple` is not equal to `apple`\n",
    "* Should not contain any symbols in it\n",
    "\n",
    "Example of invalid names:\n",
    "\n",
    "* `1a`\n",
    "* `a b`\n",
    "\n",
    "Example of valid names:\n",
    "\n",
    "* `a1`\n",
    "* `a_b`\n",
    "* `number_list`\n",
    "* `_name`\n",
    "\n",
    "Some common variable naming conventions:\n",
    "\n",
    "* Capital letters usually reserved for Classes, i.e. class Animal, versus variable animal\n",
    "* To improve readibility, a variable name consisting of multiple words are separated by underscores, i.e. this_is_a_variable\n",
    "* Most importantly, create variable names that are sensible to not just you, but those whom you would be working with as well"
   ]
  },
  {
   "cell_type": "code",
   "execution_count": null,
   "metadata": {},
   "outputs": [],
   "source": []
  },
  {
   "cell_type": "markdown",
   "metadata": {
    "colab_type": "text",
    "id": "Fkgoxo2XfH2r"
   },
   "source": [
    "### 1.2.1 Variable Assignment\n",
    "\n",
    "Assignment refers to the process of storing data to a particular variable \n",
    "\n",
    "i.e. Variable Name = Data to be stored/assigned.  (right to left)\n",
    "\n",
    "In this case the equal sign (=) simply seeks to separate the variable and the targeted data, and it helps indicate to the computer what data is to be stored, and under what variable. Refer to the appendix for more details on **Variable Syntax**\n",
    "\n",
    "There are three common types of assignment in Python, **Single, Chained and Multiple**."
   ]
  },
  {
   "cell_type": "code",
   "execution_count": null,
   "metadata": {
    "colab": {},
    "colab_type": "code",
    "id": "QsTmxKfufrls"
   },
   "outputs": [],
   "source": [
    "# Single Assignment\n",
    "x = 1\n",
    "print(x)"
   ]
  },
  {
   "cell_type": "code",
   "execution_count": null,
   "metadata": {},
   "outputs": [],
   "source": [
    "# Chained Assignment\n",
    "x=y=z=1\n",
    "print(x)\n",
    "print(y)\n",
    "print(z)"
   ]
  },
  {
   "cell_type": "code",
   "execution_count": null,
   "metadata": {},
   "outputs": [],
   "source": [
    "# Multiple Assignment\n",
    "x,y,z=1,2,3\n",
    "print(x)\n",
    "print(y)\n",
    "print(z)"
   ]
  },
  {
   "cell_type": "markdown",
   "metadata": {
    "colab_type": "text",
    "id": "0mOpXJbKfrlw"
   },
   "source": [
    "### 1.2.1 Changing of variable values.\n",
    "\n",
    "Python operates such that they process instructions **line by line.**\n",
    "You can always change the value assigned to the variables anytime just by reassigning the value to the same variable.\n",
    "\n",
    "##### Example:\n",
    "\n",
    "```Python\n",
    "x = 100\n",
    "y = x + 100\n",
    "print(a5)\n",
    "y = y * 10\n",
    "print(y)\n",
    "```\n",
    "\n",
    "Output:\n",
    "\n",
    "    200\n",
    "    2000\n"
   ]
  },
  {
   "cell_type": "code",
   "execution_count": null,
   "metadata": {
    "colab": {},
    "colab_type": "code",
    "id": "MEqlpu0Bfrlw"
   },
   "outputs": [],
   "source": [
    "x = 10000\n",
    "y = x + 5\n",
    "print(y)\n",
    "x = 20000\n",
    "y = x + 5\n",
    "print(y)"
   ]
  },
  {
   "cell_type": "markdown",
   "metadata": {
    "colab_type": "text",
    "id": "clfmOraFUgsz"
   },
   "source": [
    "## 1.3 Operators (and Puntuators)\n",
    "\n",
    "Operators can be thought of as tools (acting on something) that you use in conjunction with the various data types. Below are a list of some common operators you would come across in Python:\n",
    "\n",
    "<img src =\"https://drive.google.com/uc?id=1klpWVzvf6sTms7CJOylHDx-cGH_GsE4E\">\n",
    "\n",
    "These operators are usually mathematical and logical tools.\n",
    "\n",
    "Punctuators, as the name suggest, functions pretty much like punctuation. Below are some common punctuators you would come across in Python:\n",
    " \n",
    "<img src=\"https://drive.google.com/uc?id=1SnqCumWDvPwCwVtWjin8aYmW1g5fL3U_\">\n"
   ]
  },
  {
   "cell_type": "markdown",
   "metadata": {
    "colab_type": "text",
    "id": "vLesuAL5Qxd_"
   },
   "source": [
    "### 1.3.2 Arithematic Operators\n",
    "|<font size=\"+0.5\"> **Operators**</font>|<font size=\"+0.5\"> **Meaning**</font> | <font size=\"+0.5\"> **Example** </font> |\n",
    "|-- | :-- | :-- | \n",
    "    | <font size=\"+0.5\">`+`</font> | <font size=\"+0.5\">**Add** two operands of the **same data type**</font>  | <font size=\"+1\">`1 + 1` results in `2`</font>|\n",
    "    | <font size=\"+0.5\">`-`</font> | <font size=\"+0.5\">**Subtract** right operand from left</font> | <font size=\"+0.5\">`2 - 1` results in `1`</font> |\n",
    "    | <font size=\"+0.5\">`*`</font> | <font size=\"+0.5\">**Multiply** two operands</font> | <font size=\"+0.5\">`1 * 2` results in `2`</font> |\n",
    "    | <font size=\"+0.5\">`/`</font> | <font size=\"+0.5\">**Divide** left operand by the right one **(always results in a float)**</font> | <font size=\"+0.5\">`4 / 2 ` results in `2.0`</font> |\n",
    "    | <font size=\"+0.5\">`//`</font> | <font size=\"+0.5\">**Floor Division** : **Divide** left operand by the right one **(always rounds down the resulting quotient)**</font> | <font size=\"+0.5\">`5 // 2` results in `2`</font> |\n",
    "    | <font size=\"+0.5\">`%`</font> | <font size=\"+0.5\">**Modulus** : **return the remainder** of the division left operand by the right</font> | <font size=\"+0.5\">`10 % 3` results in `1` </font>|\n",
    "    | <font size=\"+0.5\">`**`</font> | <font size=\"+0.5\">**Power** : left operand **raised to the power** of the right</font> | <font size=\"+0.5\">`10 ** 2` results in `100` </font>|\n"
   ]
  },
  {
   "cell_type": "code",
   "execution_count": null,
   "metadata": {
    "colab": {
     "base_uri": "https://localhost:8080/",
     "height": 153
    },
    "colab_type": "code",
    "id": "aH4R7OHZT6FC",
    "outputId": "5ae3fe0b-6e62-49d5-ad30-b5f55ee05ffd"
   },
   "outputs": [],
   "source": [
    "x=5; y=3;z=-3\n",
    "print(x+y)\n",
    "print(x-y)\n",
    "print(x*y)\n",
    "print(x/y)\n",
    "print(x//y)\n",
    "print(x//z)\n",
    "print(x%y)\n",
    "print(x**y)"
   ]
  },
  {
   "cell_type": "markdown",
   "metadata": {
    "colab_type": "text",
    "id": "izKYrDvtUsbH"
   },
   "source": [
    "The **operands can also be strings**, i.e. x='apple' and y='orange'."
   ]
  },
  {
   "cell_type": "code",
   "execution_count": null,
   "metadata": {
    "colab": {},
    "colab_type": "code",
    "id": "UukIFYjuU3Ap"
   },
   "outputs": [],
   "source": [
    "x='apple'; y='orange'\n",
    "print(x+y)\n",
    "print(7*x)"
   ]
  },
  {
   "cell_type": "markdown",
   "metadata": {
    "colab_type": "text",
    "id": "r1mLVSUYVOdY"
   },
   "source": [
    "As you can see, application of arithematic operators on strings are quite limited.\n",
    "* +, add two operands of the **same type** (in this case, also known as **concatenation/joining**), i.e. 'apple'+'orange'='appleorange'\n",
    "* \\*, **repeats the base operand** (if you think about it * is just multiple +), i.e. integer * base_operand/string"
   ]
  },
  {
   "cell_type": "markdown",
   "metadata": {
    "colab_type": "text",
    "id": "pRLS_SUHfrl4"
   },
   "source": [
    "### Practice\n",
    "### Question 1\n",
    "\n",
    "Given the 2 variables `height` and `weight` below.\n",
    "Compute the BMI with the following formula: <br><br>\n",
    "\n",
    "<center><font size=4.5> $ BMI = \\frac{weight(kg)}{(height(m))^{2}} $</font></center>\n",
    "\n",
    "Expected output:\n",
    "\n",
    "    21.093749999999996"
   ]
  },
  {
   "cell_type": "code",
   "execution_count": null,
   "metadata": {
    "colab": {},
    "colab_type": "code",
    "id": "Ay_12udofrl5",
    "scrolled": true
   },
   "outputs": [],
   "source": [
    "height = 160 # in centimetre\n",
    "weight = '54' # in kg\n",
    "# Please write your answer below\n",
    "bmi = int(weight)/((height/100) **2)\n",
    "print(bmi)"
   ]
  },
  {
   "cell_type": "markdown",
   "metadata": {
    "colab_type": "text",
    "id": "EhS04bQrfrl6"
   },
   "source": [
    "### Question 2\n",
    "Given the 2 string variables `x` and `y`, obtain the following results\n",
    "\n",
    "    'ACCCACCC'"
   ]
  },
  {
   "cell_type": "code",
   "execution_count": null,
   "metadata": {
    "colab": {},
    "colab_type": "code",
    "id": "f7OLWhwWfrl7"
   },
   "outputs": [],
   "source": [
    "x = 'A'\n",
    "y = 'C'\n",
    "# Please write your answer below\n",
    "print(2*(x+ 3*y))"
   ]
  },
  {
   "cell_type": "markdown",
   "metadata": {
    "colab_type": "text",
    "id": "ZnCWmsDgWjzb"
   },
   "source": [
    "### 1.3.3 Relational Operators\n",
    "\n",
    "Commonly use to compare two sets of data (int, float, strings) and returns a Boolean, **True** or **False**\n",
    "\n",
    "* ==, means **equal to**, e.g. x==y\n",
    "* !=, means **not equal to**, e.g. x!=y\n",
    "* <, means **less than**, e.g. x<y\n",
    "* <=, means **less than or equal to**, e.g. x<=y\n",
    "* \\> , means **greater than**, e.g. x>y\n",
    "* \\>=, means **greater than or equal to**, e.g. x>=y\n",
    "                              "
   ]
  },
  {
   "cell_type": "code",
   "execution_count": null,
   "metadata": {
    "colab": {
     "base_uri": "https://localhost:8080/",
     "height": 119
    },
    "colab_type": "code",
    "id": "-qmWcTitYE4p",
    "outputId": "22f38090-4c19-41d1-bc49-f5b75557dd68"
   },
   "outputs": [],
   "source": [
    "x=5; y=3;z=5\n",
    "print(x==y)\n",
    "print(x!=y)\n",
    "print(x<y)\n",
    "print(x<=y)\n",
    "print(x>y)\n",
    "print(x>=y)\n"
   ]
  },
  {
   "cell_type": "markdown",
   "metadata": {
    "colab_type": "text",
    "id": "UVmFwNAEYuVI"
   },
   "source": [
    "What about strings? Can you compare between different data types. Lets see,"
   ]
  },
  {
   "cell_type": "code",
   "execution_count": null,
   "metadata": {
    "colab": {
     "base_uri": "https://localhost:8080/",
     "height": 51
    },
    "colab_type": "code",
    "id": "d2efS1kzY292",
    "outputId": "03a64e40-185d-459b-866c-76f9cea93ea0"
   },
   "outputs": [],
   "source": [
    "x=5; y='5'\n",
    "y = int(5)\n",
    "y = float(5)\n",
    "print(x==y)\n"
   ]
  },
  {
   "cell_type": "markdown",
   "metadata": {
    "colab_type": "text",
    "id": "-hTmbzJUuKQo"
   },
   "source": [
    "\n",
    "### 1.3.4 String Comparison\n",
    "\n",
    "* When comparing strings, Python converts the characters into their equivalent ordinal values and compares the integers from left to right starting from index 0.\n",
    "\n",
    "\n",
    "> * If the characters are equal, increase the index by one and repeat the comparison. Else, the result of the comparison is returned\n",
    "\n",
    "* If both strings are equal up to some point, then the longer string is greater, e.g. 'apples'>'apple'\n",
    "\n",
    "\n",
    "\n",
    "##### Single Assignment:\n",
    "\n",
    "```Python\n",
    "print('abc'>'cba')\n",
    "print('abd'>'abc')\n",
    "print('apples'>'apple')\n",
    "```\n",
    "Output:\n",
    "\n",
    "    False\n",
    "    True\n",
    "    True\n"
   ]
  },
  {
   "cell_type": "code",
   "execution_count": null,
   "metadata": {},
   "outputs": [],
   "source": [
    "print('abc'>'cba')\n",
    "print('abd'>'abc')\n",
    "print('apples'>'apple')"
   ]
  },
  {
   "cell_type": "markdown",
   "metadata": {
    "colab_type": "text",
    "id": "3ZmlwJHNZRzI"
   },
   "source": [
    "### 1.3.5 Logical Operators\n",
    "\n",
    "Logical operators seek to connect/compare Boolean values and return another Boolean value as a result of the comparison\n",
    "\n",
    "* and, **returns True if and only if both Boolean values are True**, i.e. True **and** True returns True\n",
    "* or, **returns True if either Boolean value is True**, i.e. True or False, False **or** True, both returns True\n",
    "* not, **flips the Boolean value**, i.e. **not** True returns False\n",
    "\n",
    "You can refer to the table below if you are still confuse as to what and/or/not does.\n",
    "\n",
    "<img src=\"https://drive.google.com/uc?id=13Q7Sl_EzM6rFXewmVGbueBQ_zPn6DbhH\">"
   ]
  },
  {
   "cell_type": "code",
   "execution_count": null,
   "metadata": {
    "colab": {
     "base_uri": "https://localhost:8080/",
     "height": 70
    },
    "colab_type": "code",
    "id": "HBvX34EdbQ--",
    "outputId": "75cdb800-e1b0-4bfd-c92c-5455940382f1"
   },
   "outputs": [],
   "source": [
    "x=5; y=3\n",
    "print((x<y) or not (x==y))\n",
    "print((x<y) and not (x==y))\n",
    "print((x<y) and (x==y))"
   ]
  }
 ],
 "metadata": {
  "colab": {
   "collapsed_sections": [],
   "name": "Chapter_1_Data_Types_and_Operators (Version 2).ipynb",
   "provenance": []
  },
  "kernelspec": {
   "display_name": "Python 3",
   "language": "python",
   "name": "python3"
  },
  "language_info": {
   "codemirror_mode": {
    "name": "ipython",
    "version": 3
   },
   "file_extension": ".py",
   "mimetype": "text/x-python",
   "name": "python",
   "nbconvert_exporter": "python",
   "pygments_lexer": "ipython3",
   "version": "3.7.6"
  }
 },
 "nbformat": 4,
 "nbformat_minor": 1
}
